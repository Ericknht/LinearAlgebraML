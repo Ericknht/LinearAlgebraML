{
 "cells": [
  {
   "cell_type": "code",
   "execution_count": 2,
   "metadata": {},
   "outputs": [],
   "source": [
    "%matplotlib inline\n",
    "\n",
    "import numpy as np\n",
    "import matplotlib.pyplot as plt"
   ]
  },
  {
   "cell_type": "code",
   "execution_count": 12,
   "metadata": {},
   "outputs": [],
   "source": [
    "%run \"../Funciones_auxiliares/graficarVectores.ipynb\"\n",
    "%run \"../Funciones_auxiliares/graficarMatriz.ipynb\""
   ]
  },
  {
   "cell_type": "code",
   "execution_count": 13,
   "metadata": {},
   "outputs": [
    {
     "name": "stdout",
     "output_type": "stream",
     "text": [
      "[[3 7]\n",
      " [5 2]]\n"
     ]
    }
   ],
   "source": [
    "A = np.array([[3, 7], [5, 2]])\n",
    "print(A)"
   ]
  },
  {
   "cell_type": "code",
   "execution_count": 14,
   "metadata": {},
   "outputs": [
    {
     "name": "stdout",
     "output_type": "stream",
     "text": [
      "[8.71337969 3.32821489]\n"
     ]
    }
   ],
   "source": [
    "U, D, V = np.linalg.svd(A)\n",
    "print(D)"
   ]
  },
  {
   "cell_type": "code",
   "execution_count": 15,
   "metadata": {},
   "outputs": [
    {
     "name": "stdout",
     "output_type": "stream",
     "text": [
      "8.7133796929634\n",
      "3.3282148858288965\n"
     ]
    }
   ],
   "source": [
    "print(D[0])\n",
    "print(D[1])"
   ]
  },
  {
   "cell_type": "code",
   "execution_count": 16,
   "metadata": {},
   "outputs": [
    {
     "data": {
      "text/plain": [
       "array([[3., 7.],\n",
       "       [5., 2.]])"
      ]
     },
     "execution_count": 16,
     "metadata": {},
     "output_type": "execute_result"
    }
   ],
   "source": [
    "U.dot(np.diag(D)).dot(V)"
   ]
  },
  {
   "cell_type": "code",
   "execution_count": 27,
   "metadata": {},
   "outputs": [],
   "source": [
    "u1 = [D[0] * U[0,0], D[0] * U[0, 1]]\n",
    "v1 = [D[1] * U[1,0], D[1] * U[1, 1]]\n",
    "\n",
    "u2 = [D[0] * U[0,0], D[1] * U[0, 1]]\n",
    "v2 = [D[0] * U[1,0], D[1] * U[1, 1]]"
   ]
  },
  {
   "cell_type": "code",
   "execution_count": 28,
   "metadata": {},
   "outputs": [
    {
     "name": "stdout",
     "output_type": "stream",
     "text": [
      "3 5\n",
      "[-7.412043479297569, -4.580894796297923] \n",
      "\n",
      "7 2\n",
      "[-1.7497461132982814, 2.8311486829996433]\n"
     ]
    }
   ],
   "source": [
    "print(A[0, 0], A[1, 0])\n",
    "print(u1, \"\\n\")\n",
    "\n",
    "print(A[0, 1], A[1, 1])\n",
    "print(v1)"
   ]
  },
  {
   "cell_type": "code",
   "execution_count": 29,
   "metadata": {},
   "outputs": [
    {
     "data": {
      "text/plain": [
       "<function matplotlib.pyplot.show(*args, **kw)>"
      ]
     },
     "execution_count": 29,
     "metadata": {},
     "output_type": "execute_result"
    },
    {
     "data": {
      "image/png": "[encoded data removed]",
      "text/plain": [
       "<Figure size 432x288 with 1 Axes>"
      ]
     },
     "metadata": {
      "needs_background": "light"
     },
     "output_type": "display_data"
    }
   ],
   "source": [
    "graficarMatriz(A)\n",
    "graficarVectores([u1, v1, u2, v2], cols=['red', 'blue', 'orange', 'green'])\n",
    "\n",
    "plt.text(3, 5, r\"$u_1$\", size=18)\n",
    "plt.text(7, 2, r\"$v_1$\", size=18)\n",
    "\n",
    "plt.text(-5, -4, r\"$D(u_1$)\", size=18)\n",
    "plt.text(-4, 1, r\"$D(v_1$)\", size=18)\n",
    "\n",
    "plt.xlim(-8, 8)\n",
    "plt.ylim(-8, 8)\n",
    "plt.show"
   ]
  },
  {
   "cell_type": "code",
   "execution_count": null,
   "metadata": {},
   "outputs": [],
   "source": []
  }
 ],
 "metadata": {
  "kernelspec": {
   "display_name": "Python 3",
   "language": "python",
   "name": "python3"
  },
  "language_info": {
   "codemirror_mode": {
    "name": "ipython",
    "version": 3
   },
   "file_extension": ".py",
   "mimetype": "text/x-python",
   "name": "python",
   "nbconvert_exporter": "python",
   "pygments_lexer": "ipython3",
   "version": "3.8.3"
  }
 },
 "nbformat": 4,
 "nbformat_minor": 4
}
